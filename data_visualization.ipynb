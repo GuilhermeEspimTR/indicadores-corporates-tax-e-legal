{
 "cells": [
  {
   "cell_type": "code",
   "execution_count": null,
   "id": "1867ccea",
   "metadata": {},
   "outputs": [],
   "source": [
    "from pages.estimate_hours.data_loaders.user_stories import UserStories\n",
    "from pages.estimate_hours.data_loaders.tasks import Tasks"
   ]
  },
  {
   "cell_type": "code",
   "execution_count": null,
   "id": "13ff3194",
   "metadata": {},
   "outputs": [
    {
     "data": {
      "text/plain": [
       "0      2025_S11_May21-Jun03\n",
       "3                      None\n",
       "15     2025_S13_Jun18-Jul01\n",
       "16     2025_S09_Apr23-May06\n",
       "86     2025_S10_May07-May20\n",
       "192    2025_S05_Feb26-Mar11\n",
       "193    2025_S12_Jun04-Jun17\n",
       "Name: SprintDate, dtype: object"
      ]
     },
     "execution_count": 4,
     "metadata": {},
     "output_type": "execute_result"
    }
   ],
   "source": [
    "df = UserStories().data\n",
    "Tasks().data"
   ]
  },
  {
   "cell_type": "code",
   "execution_count": 16,
   "id": "337c78f4",
   "metadata": {},
   "outputs": [
    {
     "data": {
      "text/html": [
       "<div>\n",
       "<style scoped>\n",
       "    .dataframe tbody tr th:only-of-type {\n",
       "        vertical-align: middle;\n",
       "    }\n",
       "\n",
       "    .dataframe tbody tr th {\n",
       "        vertical-align: top;\n",
       "    }\n",
       "\n",
       "    .dataframe thead th {\n",
       "        text-align: right;\n",
       "    }\n",
       "</style>\n",
       "<table border=\"1\" class=\"dataframe\">\n",
       "  <thead>\n",
       "    <tr style=\"text-align: right;\">\n",
       "      <th></th>\n",
       "      <th>WorkItemId</th>\n",
       "      <th>Title</th>\n",
       "      <th>State</th>\n",
       "      <th>WorkItemType</th>\n",
       "      <th>CreatedDate</th>\n",
       "      <th>EstimateHours</th>\n",
       "      <th>UserName</th>\n",
       "      <th>AssignedTo</th>\n",
       "      <th>IterationPath</th>\n",
       "      <th>SprintDate</th>\n",
       "      <th>Iteration</th>\n",
       "    </tr>\n",
       "  </thead>\n",
       "  <tbody>\n",
       "  </tbody>\n",
       "</table>\n",
       "</div>"
      ],
      "text/plain": [
       "Empty DataFrame\n",
       "Columns: [WorkItemId, Title, State, WorkItemType, CreatedDate, EstimateHours, UserName, AssignedTo, IterationPath, SprintDate, Iteration]\n",
       "Index: []"
      ]
     },
     "execution_count": 16,
     "metadata": {},
     "output_type": "execute_result"
    }
   ],
   "source": [
    "df = UserStories().data\n",
    "df = df[df['EstimateHours'] != 0]\n",
    "df = df[df['SprintDate'].isin([\"2025_S12_Jun04-Jun17\"])]\n",
    "df"
   ]
  }
 ],
 "metadata": {
  "kernelspec": {
   "display_name": "Python 3",
   "language": "python",
   "name": "python3"
  },
  "language_info": {
   "codemirror_mode": {
    "name": "ipython",
    "version": 3
   },
   "file_extension": ".py",
   "mimetype": "text/x-python",
   "name": "python",
   "nbconvert_exporter": "python",
   "pygments_lexer": "ipython3",
   "version": "3.13.3"
  }
 },
 "nbformat": 4,
 "nbformat_minor": 5
}

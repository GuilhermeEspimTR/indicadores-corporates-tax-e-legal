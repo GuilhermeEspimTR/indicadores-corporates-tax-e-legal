{
 "cells": [
  {
   "cell_type": "code",
   "execution_count": 3,
   "id": "1867ccea",
   "metadata": {},
   "outputs": [],
   "source": [
    "from pages.estimate_hours.data_loaders.users import Users"
   ]
  },
  {
   "cell_type": "code",
   "execution_count": 4,
   "id": "13ff3194",
   "metadata": {},
   "outputs": [
    {
     "name": "stdout",
     "output_type": "stream",
     "text": [
      "                                           UserName\n",
      "0                Carneiro, Leonardo (TR Technology)\n",
      "1              Pereira, Luiz Flávio (TR Technology)\n",
      "2                Guinzani, Henrique (TR Technology)\n",
      "3               Costa, Christian A. (TR Technology)\n",
      "4                  Silvestre, Tiago (TR Technology)\n",
      "..                                              ...\n",
      "90                    Ramos, Amanda (TR Technology)\n",
      "91  Pereira Cândido, Izabella Loyse (TR Technology)\n",
      "92             Freitas, Fernanda D. (TR Technology)\n",
      "93                    Fração, Diego (TR Technology)\n",
      "94                    Ribeiro, Hugo (TR Technology)\n",
      "\n",
      "[95 rows x 1 columns]\n"
     ]
    },
    {
     "data": {
      "text/html": [
       "<div>\n",
       "<style scoped>\n",
       "    .dataframe tbody tr th:only-of-type {\n",
       "        vertical-align: middle;\n",
       "    }\n",
       "\n",
       "    .dataframe tbody tr th {\n",
       "        vertical-align: top;\n",
       "    }\n",
       "\n",
       "    .dataframe thead th {\n",
       "        text-align: right;\n",
       "    }\n",
       "</style>\n",
       "<table border=\"1\" class=\"dataframe\">\n",
       "  <thead>\n",
       "    <tr style=\"text-align: right;\">\n",
       "      <th></th>\n",
       "      <th>UserName</th>\n",
       "    </tr>\n",
       "  </thead>\n",
       "  <tbody>\n",
       "    <tr>\n",
       "      <th>0</th>\n",
       "      <td>Carneiro, Leonardo (TR Technology)</td>\n",
       "    </tr>\n",
       "    <tr>\n",
       "      <th>1</th>\n",
       "      <td>Pereira, Luiz Flávio (TR Technology)</td>\n",
       "    </tr>\n",
       "    <tr>\n",
       "      <th>2</th>\n",
       "      <td>Guinzani, Henrique (TR Technology)</td>\n",
       "    </tr>\n",
       "    <tr>\n",
       "      <th>3</th>\n",
       "      <td>Costa, Christian A. (TR Technology)</td>\n",
       "    </tr>\n",
       "    <tr>\n",
       "      <th>4</th>\n",
       "      <td>Silvestre, Tiago (TR Technology)</td>\n",
       "    </tr>\n",
       "    <tr>\n",
       "      <th>...</th>\n",
       "      <td>...</td>\n",
       "    </tr>\n",
       "    <tr>\n",
       "      <th>90</th>\n",
       "      <td>Ramos, Amanda (TR Technology)</td>\n",
       "    </tr>\n",
       "    <tr>\n",
       "      <th>91</th>\n",
       "      <td>Pereira Cândido, Izabella Loyse (TR Technology)</td>\n",
       "    </tr>\n",
       "    <tr>\n",
       "      <th>92</th>\n",
       "      <td>Freitas, Fernanda D. (TR Technology)</td>\n",
       "    </tr>\n",
       "    <tr>\n",
       "      <th>93</th>\n",
       "      <td>Fração, Diego (TR Technology)</td>\n",
       "    </tr>\n",
       "    <tr>\n",
       "      <th>94</th>\n",
       "      <td>Ribeiro, Hugo (TR Technology)</td>\n",
       "    </tr>\n",
       "  </tbody>\n",
       "</table>\n",
       "<p>95 rows × 1 columns</p>\n",
       "</div>"
      ],
      "text/plain": [
       "                                           UserName\n",
       "0                Carneiro, Leonardo (TR Technology)\n",
       "1              Pereira, Luiz Flávio (TR Technology)\n",
       "2                Guinzani, Henrique (TR Technology)\n",
       "3               Costa, Christian A. (TR Technology)\n",
       "4                  Silvestre, Tiago (TR Technology)\n",
       "..                                              ...\n",
       "90                    Ramos, Amanda (TR Technology)\n",
       "91  Pereira Cândido, Izabella Loyse (TR Technology)\n",
       "92             Freitas, Fernanda D. (TR Technology)\n",
       "93                    Fração, Diego (TR Technology)\n",
       "94                    Ribeiro, Hugo (TR Technology)\n",
       "\n",
       "[95 rows x 1 columns]"
      ]
     },
     "execution_count": 4,
     "metadata": {},
     "output_type": "execute_result"
    }
   ],
   "source": [
    "Users().data"
   ]
  }
 ],
 "metadata": {
  "kernelspec": {
   "display_name": "Python 3",
   "language": "python",
   "name": "python3"
  },
  "language_info": {
   "codemirror_mode": {
    "name": "ipython",
    "version": 3
   },
   "file_extension": ".py",
   "mimetype": "text/x-python",
   "name": "python",
   "nbconvert_exporter": "python",
   "pygments_lexer": "ipython3",
   "version": "3.13.3"
  }
 },
 "nbformat": 4,
 "nbformat_minor": 5
}
